{
 "cells": [
  {
   "cell_type": "markdown",
   "id": "aea858e4-823c-473e-9a45-6ff356702ed3",
   "metadata": {},
   "source": [
    "<p style=\"color: darkred; font-size: 30px; text-align: center;\"><b>Comparative Web Scraping Analysis:</b> Extracting and Evaluating Product Data from Auchan and Biedronka stores in Glovo</p>\n",
    "<p style=\"color: darkred; font-size: 20px; text-align: center;\">Webscraping and Social Media Scraping Class Project</p>\n",
    "<p style=\"font-size: 15px; text-align: center;\">Paula Gwanchele</p>\n",
    "<p style=\"font-size: 10px; text-align: center;\">Spring 2025</p>\n",
    "<p align=\"center\">\n",
    "  <img src=\"logo_UW_WNE.jpg\" alt=\"WNE Logo\" width=\"398\" height=\"53\">\n",
    "</p>"
   ]
  },
  {
   "cell_type": "markdown",
   "id": "50116cde-6181-4551-80f8-3646f1eab8c4",
   "metadata": {
    "jp-MarkdownHeadingCollapsed": true
   },
   "source": [
    "## Objective: \n",
    "Scrape product data from Auchan in Glovo and compare it with Biedronka's data to determine which store offers better prices and diversity.\n",
    "## Tools: \n",
    "Selenium (for dynamic content), BeautifulSoup (for parsing), Pandas (for data processing), Matplotlib/Seaborn (for visualizations)."
   ]
  },
  {
   "cell_type": "markdown",
   "id": "d1e983b6-3063-46d3-a925-95b590ad9304",
   "metadata": {},
   "source": [
    "# 1. Scraping using Selenium"
   ]
  },
  {
   "cell_type": "code",
   "execution_count": 4,
   "id": "833e83a8-c645-4ac1-8794-e851154fe52c",
   "metadata": {},
   "outputs": [],
   "source": [
    "#To proceed with Selenium, browser's webdriver need to be installed and the libraries.\n",
    "#!pip install pandas numpy selenium"
   ]
  },
  {
   "cell_type": "code",
   "execution_count": 5,
   "id": "d4158ba3-f4e3-4e36-b213-8d784043d7f7",
   "metadata": {},
   "outputs": [],
   "source": [
    "# FOR DATA PROCESSING:\n",
    "import pandas as pd\n",
    "import numpy as np\n",
    "import os  \n",
    "import re\n",
    "from itertools import zip_longest\n",
    "\n",
    "# FOR MEASURING COMPUTATION TIME, CREATING FIXED DELAYS:\n",
    "import time\n",
    "\n",
    "# FOR APPLYING SELENIUM:\n",
    "import selenium \n",
    "from selenium import webdriver\n",
    "from selenium import webdriver\n",
    "import requests  # For downloading images\n",
    "\n",
    "# FOR WEB DRIVER:\n",
    "from webdriver_manager.chrome import ChromeDriverManager \n",
    "from selenium.webdriver.chrome.service import Service \n",
    "from selenium.webdriver.support.ui import WebDriverWait \n",
    "from selenium.webdriver.support import expected_conditions as EC\n",
    "from selenium.webdriver.common.by import By\n",
    "\n",
    "# FOR HTML PARSING:\n",
    "from bs4 import BeautifulSoup  # BeautifulSoup helps extract images\n"
   ]
  },
  {
   "cell_type": "markdown",
   "id": "16a38480-af5b-4c74-b9cf-b37be72c1b87",
   "metadata": {},
   "source": [
    "\n",
    "**Step 1** : Open the Auchan store on Glovo website with Selenium."
   ]
  },
  {
   "cell_type": "code",
   "execution_count": 7,
   "id": "3ab42c43-2a2d-4b29-bb3a-c701d23b22f0",
   "metadata": {},
   "outputs": [
    {
     "name": "stdout",
     "output_type": "stream",
     "text": [
      "No cookies banner found or already accepted.\n"
     ]
    }
   ],
   "source": [
    "# Define Website URL\n",
    "website = \"https://glovoapp.com/pl/en/warsaw/auchan-waw\"\n",
    "\n",
    "# Initialize Selenium WebDriver\n",
    "service_chrome = Service(ChromeDriverManager().install()) \n",
    "options_chrome = webdriver.ChromeOptions()\n",
    "driver_chrome = webdriver.Chrome(service = service_chrome, options = options_chrome)\n",
    "\n",
    "driver_chrome.maximize_window()\n",
    "driver_chrome.get(website) #opens the website\n",
    "\n",
    "# Handle Cookies\n",
    "cookies_button_xpath = '''//button[@id='onetrust-accept-btn-handler']'''\n",
    "try:\n",
    "    WebDriverWait(driver_chrome, 10).until(\n",
    "        EC.element_to_be_clickable((By.XPATH, cookies_button_xpath))\n",
    "    ).click()\n",
    "    print(\"Cookies accepted.\")\n",
    "except:\n",
    "    print(\"No cookies banner found or already accepted.\")"
   ]
  },
  {
   "cell_type": "markdown",
   "id": "125055f0-4d0c-4010-98d5-147bb204a331",
   "metadata": {},
   "source": [
    "**Step 2:** Scale the procedure of collecting links to subpages with products."
   ]
  },
  {
   "cell_type": "code",
   "execution_count": 9,
   "id": "c3b76345-0aeb-4f19-9a72-d6fdf548dbec",
   "metadata": {},
   "outputs": [
    {
     "name": "stdout",
     "output_type": "stream",
     "text": [
      "✅ Collected 132 product links.\n",
      "2.134073257446289\n"
     ]
    }
   ],
   "source": [
    "start = time.time()\n",
    "# Find all product links\n",
    "tags = driver_chrome.find_elements(By.XPATH, \"//a[@data-test-id='collection-link']\")\n",
    "\n",
    "# Collect product page links from the 'tags'\n",
    "product_links = []\n",
    "\n",
    "for tag in tags:\n",
    "            href = tag.get_attribute(\"href\")\n",
    "            if (href not in product_links): # here we handle duplicates\n",
    "                product_links.append(href)\n",
    "\n",
    "print(f\"✅ Collected {len(product_links)} product links.\")\n",
    "end = time.time()\n",
    "print(end-start)"
   ]
  },
  {
   "cell_type": "code",
   "execution_count": 10,
   "id": "6ac7b2de-5399-411e-b939-591d87c8dd99",
   "metadata": {},
   "outputs": [
    {
     "data": {
      "text/plain": [
       "['https://glovoapp.com/pl/en/warsaw/auchan-waw/?content=prawdopodobnie-najlepsze-sc.23917251%2Fnajlepsze-piwa-c.23917252',\n",
       " 'https://glovoapp.com/pl/en/warsaw/auchan-waw/?content=marki-auchan-sc.2284469%2Fnajtansze-c.2284480',\n",
       " 'https://glovoapp.com/pl/en/warsaw/auchan-waw/?content=marki-auchan-sc.2284469%2Fauchan-c.2284489']"
      ]
     },
     "execution_count": 10,
     "metadata": {},
     "output_type": "execute_result"
    }
   ],
   "source": [
    "product_links[0:3]"
   ]
  },
  {
   "cell_type": "markdown",
   "id": "9f902fdf-8d41-4ece-83eb-92fc6ca94bf9",
   "metadata": {},
   "source": [
    "**Step 3** : Access the collected links to extract product data and store data"
   ]
  },
  {
   "cell_type": "code",
   "execution_count": 12,
   "id": "2bf32b49-22a2-4e14-b213-dd5e6df6d789",
   "metadata": {},
   "outputs": [
    {
     "name": "stdout",
     "output_type": "stream",
     "text": [
      "['Karmi - Piwo ciemne bezalkoholowe alk.do 0.5% obj. - 4 x 400 ml', 'Zatecky - Piwo bezalkoholowe pasteryzowane alk.0.0% obj. - 4 x 500 ml', 'Auchan - Ser mozzarella w zalewie solankowej - 100 g']\n",
      "['18,72 zł', '16,75 zł', '2,79 zł']\n",
      "['https://glovo.dhmedia.io/image/global-catalog-glovo/nv-global-catalog/sw/198c0bcd-c6dc-4c23-8346-67db10a574a9.jpg?t=W3siYXV0byI6eyJxIjoibG93In19LHsicmVzaXplIjp7IndpZHRoIjoxNTAsImhlaWdodCI6MTUwfX1d', 'https://glovo.dhmedia.io/image/global-catalog-glovo/nv-global-catalog/sw/4e8be438-dba7-49d2-81e0-65ad6fddb071.jpg?t=W3siYXV0byI6eyJxIjoibG93In19LHsicmVzaXplIjp7IndpZHRoIjoxNTAsImhlaWdodCI6MTUwfX1d', 'https://glovo.dhmedia.io/image/global-catalog-glovo/nv-global-catalog/sw/4774d8be-5caf-4e87-8998-fc12c50c8abb.jpg?t=W3siYXV0byI6eyJxIjoibG93In19LHsicmVzaXplIjp7IndpZHRoIjoxNTAsImhlaWdodCI6MTUwfX1d']\n"
     ]
    }
   ],
   "source": [
    "all_products = []\n",
    "all_prices = []\n",
    "all_images = []\n",
    "\n",
    "for link in product_links:  \n",
    "    \n",
    "    try:\n",
    "        driver_chrome.get(link)\n",
    "        time.sleep(np.random.chisquare(1)+3)\n",
    "\n",
    "        # Extract product details\n",
    "        product_elements = driver_chrome.find_elements(By.CLASS_NAME, \"tile__description\")\n",
    "        product_prices = driver_chrome.find_elements(By.CLASS_NAME, 'tile__price')\n",
    "        product_images = driver_chrome.find_elements(By.XPATH, \"//img[contains(@class, 'tile__image')]\")\n",
    "    \n",
    "\n",
    "        \n",
    "        all_products.extend([product.text.strip() for product in product_elements if product.text.strip()])\n",
    "        all_prices.extend([price.text.strip() for price in product_prices if price.text.strip()])\n",
    "        all_images.extend([img.get_attribute(\"src\") for img in product_images if img.get_attribute(\"src\")])\n",
    "\n",
    "    \n",
    "    except:\n",
    "        continue\n",
    "\n",
    "print(all_products[0:3])\n",
    "print(all_prices[0:3])\n",
    "print(all_images[0:3])"
   ]
  },
  {
   "cell_type": "markdown",
   "id": "6a4e00dc-b532-44d2-93c9-33da99a45b62",
   "metadata": {},
   "source": [
    "**Step 4**: Downloading product images"
   ]
  },
  {
   "cell_type": "code",
   "execution_count": 25,
   "id": "2cdde447-e882-4f94-b0a6-082354b8cd75",
   "metadata": {},
   "outputs": [],
   "source": [
    "# Define the correct folder path\n",
    "image_folder = r\"C:\\Users\\Surface 4\\OneDrive\\Documents\\Web&Social Media Scrapping\\Project\\glovo_images\"\n",
    "os.makedirs(image_folder, exist_ok=True)  # Ensure the folder exists\n",
    "\n",
    "# Download and save images\n",
    "for image_url in all_images:\n",
    "    try:\n",
    "        response = requests.get(image_url, stream=True)# Stream the image\n",
    "        if response.status_code == 200:\n",
    "            img_name = os.path.basename(image_url.split(\"?\")[0])  \n",
    "            image_path = os.path.join(image_folder, img_name)\n",
    "            with open(image_path, \"wb\") as file:\n",
    "                file.write(response.content)\n",
    "        else:\n",
    "            print('Url for this image not found')\n",
    "    except requests.exceptions.RequestException as e:\n",
    "        print(f\"⚠️ Failed to download {image_url}: {e}\")"
   ]
  },
  {
   "cell_type": "markdown",
   "id": "9f1d03f5-3515-4ff3-be83-4b2aabc1dcfa",
   "metadata": {},
   "source": [
    "**Step 5**: Saving the data into a dataframe"
   ]
  },
  {
   "cell_type": "code",
   "execution_count": 34,
   "id": "a11181ef-4f5d-4f24-b8ca-10f5bc0a05d6",
   "metadata": {},
   "outputs": [
    {
     "name": "stdout",
     "output_type": "stream",
     "text": [
      "✅ Data saved to glovo_auchan_products.csv successfully!\n"
     ]
    }
   ],
   "source": [
    "# Ensure all lists have the same length\n",
    "max_length = max(len(all_products), len(all_prices), len(all_images))\n",
    "\n",
    "# Pad shorter lists with None to make them equal\n",
    "all_products = all_products + [None] * (max_length - len(all_products))\n",
    "all_prices = all_prices + [None] * (max_length - len(all_prices))\n",
    "all_images = all_images + [None] * (max_length - len(all_images))\n",
    "\n",
    "# Function to extract category name, product name, and weight\n",
    "def split_product_details(product_text):\n",
    "    if not product_text:\n",
    "        return None, None, None  # Handle empty values\n",
    "    \n",
    "    parts = product_text.split(\" - \")  # Split by ' - '\n",
    "    \n",
    "    category_name = parts[0] if len(parts) > 0 else None\n",
    "    product_name = \" - \".join(parts[1:-1]) if len(parts) > 2 else (parts[1] if len(parts) > 1 else None)\n",
    "    weight = parts[-1] if len(parts) > 1 else None\n",
    "    \n",
    "    return category_name, product_name, weight\n",
    "\n",
    "# Process product details\n",
    "category_names = []\n",
    "product_names = []\n",
    "weights = []\n",
    "\n",
    "for product in all_products:\n",
    "    category, name, weight = split_product_details(product)\n",
    "    category_names.append(category)\n",
    "    product_names.append(name)\n",
    "    weights.append(weight)\n",
    "\n",
    "# Create DataFrame\n",
    "df = pd.DataFrame({\n",
    "    \"Category Name\": category_names,\n",
    "    \"Product Name\": product_names,\n",
    "    \"Weight/Size\": weights,\n",
    "    \"Price\": all_prices,\n",
    "    \"Image URL\": all_images\n",
    "})\n",
    "\n",
    "# Save DataFrame to CSV\n",
    "df.to_csv(r\"C:\\Users\\Surface 4\\OneDrive\\Documents\\Web&Social Media Scrapping\\Project\\glovo_auchan_products.csv\", index=False, encoding=\"utf-8-sig\")\n",
    "\n",
    "print(\"✅ Data saved to glovo_auchan_products.csv successfully!\")\n",
    "\n",
    "# Close browser\n",
    "driver_chrome.quit()"
   ]
  },
  {
   "cell_type": "code",
   "execution_count": 28,
   "id": "dd9d8326-0d20-46e3-a5b7-a746d79123be",
   "metadata": {},
   "outputs": [
    {
     "data": {
      "text/html": [
       "<div>\n",
       "<style scoped>\n",
       "    .dataframe tbody tr th:only-of-type {\n",
       "        vertical-align: middle;\n",
       "    }\n",
       "\n",
       "    .dataframe tbody tr th {\n",
       "        vertical-align: top;\n",
       "    }\n",
       "\n",
       "    .dataframe thead th {\n",
       "        text-align: right;\n",
       "    }\n",
       "</style>\n",
       "<table border=\"1\" class=\"dataframe\">\n",
       "  <thead>\n",
       "    <tr style=\"text-align: right;\">\n",
       "      <th></th>\n",
       "      <th>Category Name</th>\n",
       "      <th>Product Name</th>\n",
       "      <th>Weight/Size</th>\n",
       "      <th>Price</th>\n",
       "      <th>Image URL</th>\n",
       "    </tr>\n",
       "  </thead>\n",
       "  <tbody>\n",
       "    <tr>\n",
       "      <th>0</th>\n",
       "      <td>Karmi</td>\n",
       "      <td>Piwo ciemne bezalkoholowe alk.do 0.5% obj.</td>\n",
       "      <td>4 x 400 ml</td>\n",
       "      <td>18,72 zł</td>\n",
       "      <td>https://glovo.dhmedia.io/image/global-catalog-...</td>\n",
       "    </tr>\n",
       "    <tr>\n",
       "      <th>1</th>\n",
       "      <td>Zatecky</td>\n",
       "      <td>Piwo bezalkoholowe pasteryzowane alk.0.0% obj.</td>\n",
       "      <td>4 x 500 ml</td>\n",
       "      <td>16,75 zł</td>\n",
       "      <td>https://glovo.dhmedia.io/image/global-catalog-...</td>\n",
       "    </tr>\n",
       "    <tr>\n",
       "      <th>2</th>\n",
       "      <td>Auchan</td>\n",
       "      <td>Ser mozzarella w zalewie solankowej</td>\n",
       "      <td>100 g</td>\n",
       "      <td>2,79 zł</td>\n",
       "      <td>https://glovo.dhmedia.io/image/global-catalog-...</td>\n",
       "    </tr>\n",
       "    <tr>\n",
       "      <th>3</th>\n",
       "      <td>Auchan</td>\n",
       "      <td>Ser gouda plastry</td>\n",
       "      <td>150 g</td>\n",
       "      <td>4,98 zł</td>\n",
       "      <td>https://glovo.dhmedia.io/image/global-catalog-...</td>\n",
       "    </tr>\n",
       "    <tr>\n",
       "      <th>4</th>\n",
       "      <td>Auchan</td>\n",
       "      <td>Ser Edamski</td>\n",
       "      <td>150 g</td>\n",
       "      <td>5,49 zł</td>\n",
       "      <td>https://glovo.dhmedia.io/image/global-catalog-...</td>\n",
       "    </tr>\n",
       "  </tbody>\n",
       "</table>\n",
       "</div>"
      ],
      "text/plain": [
       "  Category Name                                    Product Name Weight/Size  \\\n",
       "0         Karmi      Piwo ciemne bezalkoholowe alk.do 0.5% obj.  4 x 400 ml   \n",
       "1       Zatecky  Piwo bezalkoholowe pasteryzowane alk.0.0% obj.  4 x 500 ml   \n",
       "2        Auchan             Ser mozzarella w zalewie solankowej       100 g   \n",
       "3        Auchan                               Ser gouda plastry       150 g   \n",
       "4        Auchan                                     Ser Edamski       150 g   \n",
       "\n",
       "      Price                                          Image URL  \n",
       "0  18,72 zł  https://glovo.dhmedia.io/image/global-catalog-...  \n",
       "1  16,75 zł  https://glovo.dhmedia.io/image/global-catalog-...  \n",
       "2   2,79 zł  https://glovo.dhmedia.io/image/global-catalog-...  \n",
       "3   4,98 zł  https://glovo.dhmedia.io/image/global-catalog-...  \n",
       "4   5,49 zł  https://glovo.dhmedia.io/image/global-catalog-...  "
      ]
     },
     "execution_count": 28,
     "metadata": {},
     "output_type": "execute_result"
    }
   ],
   "source": [
    "df.head()"
   ]
  },
  {
   "cell_type": "code",
   "execution_count": 29,
   "id": "447cc3e4-5eb6-4bd6-a01e-0deb23631fdf",
   "metadata": {},
   "outputs": [
    {
     "data": {
      "text/html": [
       "<div>\n",
       "<style scoped>\n",
       "    .dataframe tbody tr th:only-of-type {\n",
       "        vertical-align: middle;\n",
       "    }\n",
       "\n",
       "    .dataframe tbody tr th {\n",
       "        vertical-align: top;\n",
       "    }\n",
       "\n",
       "    .dataframe thead th {\n",
       "        text-align: right;\n",
       "    }\n",
       "</style>\n",
       "<table border=\"1\" class=\"dataframe\">\n",
       "  <thead>\n",
       "    <tr style=\"text-align: right;\">\n",
       "      <th></th>\n",
       "      <th>Category Name</th>\n",
       "      <th>Product Name</th>\n",
       "      <th>Weight/Size</th>\n",
       "      <th>Price</th>\n",
       "      <th>Image URL</th>\n",
       "    </tr>\n",
       "  </thead>\n",
       "  <tbody>\n",
       "    <tr>\n",
       "      <th>4039</th>\n",
       "      <td>Auchan</td>\n",
       "      <td>Cienkopisy różne kolory 0.4 mm 10 kolorów</td>\n",
       "      <td>10 sztuk</td>\n",
       "      <td>15,99 zł</td>\n",
       "      <td>https://glovo.dhmedia.io/image/global-catalog-...</td>\n",
       "    </tr>\n",
       "    <tr>\n",
       "      <th>4040</th>\n",
       "      <td>Auchan</td>\n",
       "      <td>Kredki ołówkowe 12 kolorów</td>\n",
       "      <td>12 sztuk</td>\n",
       "      <td>6,99 zł</td>\n",
       "      <td>https://glovo.dhmedia.io/image/global-catalog-...</td>\n",
       "    </tr>\n",
       "    <tr>\n",
       "      <th>4041</th>\n",
       "      <td>Auchan</td>\n",
       "      <td>Długopis automatyczny 4 kolory</td>\n",
       "      <td>4 sztuki</td>\n",
       "      <td>8,99 zł</td>\n",
       "      <td>https://glovo.dhmedia.io/image/global-catalog-...</td>\n",
       "    </tr>\n",
       "    <tr>\n",
       "      <th>4042</th>\n",
       "      <td>Agrecol</td>\n",
       "      <td>Nawóz do storczyków Biohumus Forte</td>\n",
       "      <td>500 ml</td>\n",
       "      <td>4,99 zł</td>\n",
       "      <td>https://glovo.dhmedia.io/image/global-catalog-...</td>\n",
       "    </tr>\n",
       "    <tr>\n",
       "      <th>4043</th>\n",
       "      <td>Florovit</td>\n",
       "      <td>Płynny nawóz uniwersalny 1 kg</td>\n",
       "      <td>1 kg</td>\n",
       "      <td>18,99 zł</td>\n",
       "      <td>https://glovo.dhmedia.io/image/global-catalog-...</td>\n",
       "    </tr>\n",
       "  </tbody>\n",
       "</table>\n",
       "</div>"
      ],
      "text/plain": [
       "     Category Name                               Product Name Weight/Size  \\\n",
       "4039        Auchan  Cienkopisy różne kolory 0.4 mm 10 kolorów    10 sztuk   \n",
       "4040        Auchan                 Kredki ołówkowe 12 kolorów    12 sztuk   \n",
       "4041        Auchan             Długopis automatyczny 4 kolory    4 sztuki   \n",
       "4042       Agrecol         Nawóz do storczyków Biohumus Forte      500 ml   \n",
       "4043      Florovit              Płynny nawóz uniwersalny 1 kg        1 kg   \n",
       "\n",
       "         Price                                          Image URL  \n",
       "4039  15,99 zł  https://glovo.dhmedia.io/image/global-catalog-...  \n",
       "4040   6,99 zł  https://glovo.dhmedia.io/image/global-catalog-...  \n",
       "4041   8,99 zł  https://glovo.dhmedia.io/image/global-catalog-...  \n",
       "4042   4,99 zł  https://glovo.dhmedia.io/image/global-catalog-...  \n",
       "4043  18,99 zł  https://glovo.dhmedia.io/image/global-catalog-...  "
      ]
     },
     "execution_count": 29,
     "metadata": {},
     "output_type": "execute_result"
    }
   ],
   "source": [
    "df.tail()"
   ]
  }
 ],
 "metadata": {
  "kernelspec": {
   "display_name": "Python 3 (ipykernel)",
   "language": "python",
   "name": "python3"
  },
  "language_info": {
   "codemirror_mode": {
    "name": "ipython",
    "version": 3
   },
   "file_extension": ".py",
   "mimetype": "text/x-python",
   "name": "python",
   "nbconvert_exporter": "python",
   "pygments_lexer": "ipython3",
   "version": "3.12.3"
  }
 },
 "nbformat": 4,
 "nbformat_minor": 5
}
